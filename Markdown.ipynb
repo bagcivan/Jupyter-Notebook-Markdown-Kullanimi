{
 "cells": [
  {
   "cell_type": "markdown",
   "id": "0fea6742",
   "metadata": {},
   "source": [
    "# Markdown\n",
    "\n",
    "Merhaba Jupyter Notebook'da Markdown satırları nasıl kullanılır özetleme çalışacağım."
   ]
  },
  {
   "cell_type": "markdown",
   "id": "af1ddd66",
   "metadata": {},
   "source": [
    "## İçindekiler\n",
    "\n",
    "[Markdown Modu](#Markdown-Modu)  \n",
    "[Başlık ve Alt Başlıklar](#Başlık-ve-Alt-Başlıklar)  \n",
    "[Satır ve Yazı Tipleri](#Satır-ve-Yazı-Tipleri)  \n",
    "[Blok ve alıntı görünümleri](#Blok-ve-Alıntı-Görünümleri)  \n",
    "[Madde işaretleri](#Madde-İşaretleri)  \n",
    "[Link Ekleme](#Link-Ekleme)  \n",
    "[Resim Ekleme](#Resim-Ekleme)  \n",
    "[Kod Görünümü](#Kod-Görünümü)  \n",
    "[Matematik Formülleri](#Matematik-Formülleri)  \n",
    "[Tablo Oluşturma](#Matematik-Formülleri)  \n",
    "[Uzun Çizgi](#Uzun-Çizgi)  \n",
    "[Html Kodları](#Html-Kodları) \n",
    "\n",
    "\n",
    "***"
   ]
  },
  {
   "cell_type": "markdown",
   "id": "3ae8b5e5",
   "metadata": {},
   "source": [
    "### Markdown Modu\n",
    "Öncelikle bu hücrelerde iki şey yapabiliriz. Kod yazabilir ya da bunun gibi açıklamalar ekleyebiliriz.  \n",
    "Eğer hücreyi olarak `In [ ]:` görüyorsanız bu kod yazmak için açılmış bir hücredir.  \n",
    "Hücreleri markdown moduna almak için, yukarıdaki açılır menüden 'Code' olan seçeneğini, 'Markdown' olarak değiştirmemiz gerekir.  \n",
    "Klavye kısayolu için;  \n",
    "`In [ ]:` yazısına tıklarsanız mavi olur. Bu da hücre dışında olduğunuzu gösterir.  \n",
    "Bu durumdayken klavyede **M** tuşuna basktığınızda hücreyi markdown moduna almış olursunuz.\n",
    "***"
   ]
  },
  {
   "cell_type": "markdown",
   "id": "fb826cc0",
   "metadata": {},
   "source": [
    "### Başlık ve Alt Başlıklar\n",
    "Hücrelerin modunu değiştirdiğimizde artık açıklamalar girebiliriz. **#** karakterinden sonra bir boşluk bıraktığınızda, yazdığınız metin kalın başlık olarak görünür.  \n",
    "Ne kadar çok # kullanırsanız, başlığınız alt başlık olarak küçülür.  \n",
    "\n",
    "Kullanımı:  \n",
    "`# Başlık`  \n",
    "`## Alt Başlık`  \n",
    "`### Küçük Alt Başlık`   \n",
    "\n",
    "\n",
    "\n",
    "# Başlık  \n",
    "## Alt Başlık  \n",
    "### Küçük Alt Başlık\n",
    "\n",
    "***"
   ]
  },
  {
   "cell_type": "markdown",
   "id": "1fea21a9",
   "metadata": {},
   "source": [
    "### Satır ve Yazı Tipleri \n",
    "\n",
    "Bir alt satıra geçmek için noktadan sonra en az iki boşluk kullanmanız gerekir.  \n",
    "İki boşluk yapıp alt satıra geçtiğinizde, cümleniz bunun gibi yeni bir satır olarak görünür.  \n",
    "\n",
    "Cümle içinde kelimeleri kalın olarak belirtmek için, kelimelenin başlangıç ve bitişinde `**` kullanırız.  \n",
    "Böylece **istediğimiz kelime** kalın yazılmış olur.    \n",
    "  \n",
    "Tek yıldız `*`  olarak kullanırsak; *italik* yazmış oluruz.  \n",
    "\n",
    "Üç yıldız `***` olarak kullanırsak ***hem kalın hem de italik*** olur.  \n",
    "\n",
    "Üzeri çizili kelimeler için `~~` kullanılır. ~~Üzeri çizilmiş~~\t\n",
    "\n",
    "Kod blogu için enter üzerinde bulunan \\` tırnak işareti kullanılır.  `Kod`\n",
    "\n",
    "***"
   ]
  },
  {
   "cell_type": "markdown",
   "id": "fe9c038c",
   "metadata": {},
   "source": [
    "### Blok ve Alıntı Görünümleri\n",
    "\n",
    "> `>` Büyüktür işareti ile başladığımızda blok olarak görünür.  \n",
    "\n",
    ">> `>>` İki büyüktür işareti ile böyle\n",
    "\n",
    ">>> `>>>` Üç büyüktür işareti ile böyle\n",
    "\n",
    "***"
   ]
  },
  {
   "cell_type": "markdown",
   "id": "6f9c9077",
   "metadata": {},
   "source": [
    "### Madde İşaretleri"
   ]
  },
  {
   "cell_type": "markdown",
   "id": "a478c9a9",
   "metadata": {},
   "source": [
    "Satır başları;   `-` , `*` , `+`    ile başlarsa madde işareti olarak görünür.\n",
    "\n",
    "- İstediğiniz yazıyı madde madde yazabilirsiniz."
   ]
  },
  {
   "cell_type": "markdown",
   "id": "f0c9c072",
   "metadata": {},
   "source": [
    "Tab boşluğu ile alt maddeler de eklendiğinde böyle görünür.\n",
    "\n",
    "- Madde 1\n",
    "- Madde 2\n",
    "    - Madde 2 alt madde\n",
    "- Madde 3"
   ]
  },
  {
   "cell_type": "markdown",
   "id": "94db1224",
   "metadata": {},
   "source": [
    "Numerik olarak da 1. ile başlayan maddeler ekleyebiliriz.\n",
    "\n",
    "1. Birinci satır\n",
    "2. İkinci satır\n",
    "3. Üçüncü satır"
   ]
  },
  {
   "cell_type": "markdown",
   "id": "bf5d4e03",
   "metadata": {},
   "source": [
    "Numerik satırların içerisinde tab boşluğunu kullanarak alt maddeler de eklenebilir.\n",
    "\n",
    "1. Birinci satır\n",
    "2. İkinci satır\n",
    "    1. İkinci satırın ilk maddesi\n",
    "    2. ikinci satırın ikinci maddesi\n",
    "3. Üçüncü satır"
   ]
  },
  {
   "cell_type": "markdown",
   "id": "8d5f71c9",
   "metadata": {},
   "source": [
    "Görev listeleri için `-` işaretinden sonra köşeli parantezler `[ ]` ve `[x]` kullanılır.\n",
    "\n",
    "- [ ] Devam ediyor\n",
    "- [x] Tamamlandı\n",
    "\n",
    "***"
   ]
  },
  {
   "cell_type": "markdown",
   "id": "f055f69e",
   "metadata": {},
   "source": [
    "### Link Ekleme"
   ]
  },
  {
   "cell_type": "markdown",
   "id": "d492df3d",
   "metadata": {},
   "source": [
    "Köşeli parantez içine yazılan kelime, tıklanılacak kelime olarak görünür. Gidilecek link normal parantez içinde yanına yazılır.  \n",
    "`[Tıklanılacak kelime](gidilecek site)`  \n",
    "\n",
    "\n",
    "Örnek olarak [Google](https://google.com) diyelim."
   ]
  },
  {
   "cell_type": "markdown",
   "id": "184bac1d",
   "metadata": {},
   "source": [
    "Eğer aynı Jupyter Notebook saydasında maddeye link vermek istersek;  \n",
    "`[Tıklanılacak kelime](#Gidilecek-Başlık)`  \n",
    "(boşluk için - kullanılır)\n",
    "\n",
    "\n",
    "Örnek  \n",
    "(Uygulama için mecburen bir önceki maddeye gideceğiz)  \n",
    "[Madde işaretleri](#Madde-işaretleri)"
   ]
  },
  {
   "cell_type": "markdown",
   "id": "0d175b48",
   "metadata": {},
   "source": [
    "Siteye doğrudan link vermek istersek linki yazmamız yeterli. Mail için büyük küçük işaretleri arasına yazmamız `<isim@mail.com>` gerekir.   \n",
    "www.google.com  \n",
    "<isim@mail.com>\n",
    "\n",
    "***"
   ]
  },
  {
   "cell_type": "markdown",
   "id": "56d004af",
   "metadata": {},
   "source": [
    "### Resim Ekleme"
   ]
  },
  {
   "cell_type": "markdown",
   "id": "964dd7ee",
   "metadata": {},
   "source": [
    "Link eklemeyle gibidir. Sadece başında ! işareti vardır.  \n",
    "`![Açıklama](resimin linki \"mouse üzerine gelince yazacak yazı\")`  \n",
    "\n",
    "\n",
    "![Google](https://www.google.com.tr/images/branding/googlelogo/1x/googlelogo_color_272x92dp.png \"Google Logosu\")\n"
   ]
  },
  {
   "cell_type": "markdown",
   "id": "98a407ee",
   "metadata": {},
   "source": [
    "Eğer resime de link vermek istersek  \n",
    "`[![Açıklama](resim linki \"mouse üzerine gelince yazacak yazı\")](gidilecek link)`"
   ]
  },
  {
   "cell_type": "markdown",
   "id": "61760d63",
   "metadata": {},
   "source": [
    "[![Google](https://www.google.com.tr/images/branding/googlelogo/1x/googlelogo_color_272x92dp.png \"Google sitesine gider\")\n",
    "](https://google.com)\n"
   ]
  },
  {
   "cell_type": "markdown",
   "id": "a30b8efc",
   "metadata": {},
   "source": [
    "(link verilen hücreyi düzenlemek için hücrenin solundaki beyaz alana çift tıklanır.)\n",
    "\n",
    "***"
   ]
  },
  {
   "cell_type": "markdown",
   "id": "c57f123d",
   "metadata": {},
   "source": [
    "### Kod Görünümü"
   ]
  },
  {
   "cell_type": "markdown",
   "id": "d3a3161c",
   "metadata": {},
   "source": [
    "Eğer yazdığımız bir açıklamayı editörde yazılmış gibi renkli kodlar olarak görmek istersek  \n",
    "\n",
    "\\`\\`\\`python  \n",
    "\n",
    "kod  \n",
    "\n",
    "\\`\\`\\` \n",
    "\n",
    "bu blogun içine kodumuzu yazabiliriz. (Kullanılan kesme işareti Enter tuşunun yanında bulunur.)"
   ]
  },
  {
   "cell_type": "markdown",
   "id": "a2372014",
   "metadata": {},
   "source": [
    "Örnek\n",
    "\n",
    "```python\n",
    "x = markdown\n",
    "print(x)\n",
    "\n",
    "\n",
    "def fonksiyon_ismi()\n",
    "    deneme = x * y\n",
    "\n",
    "```\n",
    "\n",
    "***"
   ]
  },
  {
   "cell_type": "markdown",
   "id": "efde6575",
   "metadata": {},
   "source": [
    " ### Matematik Formülleri\n",
    " \n",
    " Matematik formülleri `$formül$` şekilde yazdılığında Latex notasyon görünümü alır. Eğe iki `$$` sembolü kullanılırsa formül ortada görünür.\n",
    " \n",
    " $y = x^2$  \n",
    " ***\n",
    " $$y = x^2$$  \n",
    " ***\n",
    " $$f(x) = x^2 - x^{1 \\over \\pi}$$\n",
    " \n",
    " ***\n",
    " "
   ]
  },
  {
   "cell_type": "markdown",
   "id": "8e4de029",
   "metadata": {},
   "source": [
    "### Tablo Oluşturma\n",
    "Karakter kullanılarak bir dataframe göstermek istersek aşağıdaki gibi bir kullanımı vardır.   \n",
    "\n",
    "Yazım   \n",
    "`\n",
    "| Tablo | Kolon | Son kolon |\n",
    "|-------|:-----:|----------:|\n",
    "| hücre | hücre | hücre     |\n",
    "| hücre | hücre | hücre     |\n",
    "| hücre | hücre | hücre     |\n",
    "| hücre | hücre | hücre     |\n",
    "`   \n",
    "***\n",
    "\n",
    "\n",
    "Görünüm  \n",
    "\n",
    "| Tablo | Kolon | Son kolon |\n",
    "|-------|:-----:|----------:|\n",
    "| hücre | hücre | hücre     |\n",
    "| hücre | hücre | hücre     |\n",
    "| hücre | hücre | hücre     |\n",
    "| hücre | hücre | hücre     |\n",
    "\n",
    "***"
   ]
  },
  {
   "cell_type": "markdown",
   "id": "6ce6cc1c",
   "metadata": {},
   "source": [
    "### Uzun Çizgi\n",
    "\n",
    "Hücreler arasında uzun ayıraç olarak uzun bir çizgi eklemek istediğimizde, hücrede `---` ya da `***` şekilde kullanabiliriz. Şu an aşağıda görmüş olduğunuz uzun çizgi oluşur.\n",
    "\n",
    "***"
   ]
  },
  {
   "cell_type": "markdown",
   "id": "4ed26817",
   "metadata": {},
   "source": [
    "### Html Kodları\n",
    "\n",
    "Html kodlarını sayfa üzerinde kullanabiliriz.  \n"
   ]
  },
  {
   "cell_type": "markdown",
   "id": "a3a6e85d",
   "metadata": {},
   "source": [
    "Yazdığımız kelimeyi <font color='red'>renkli</font> gösterebilir"
   ]
  },
  {
   "cell_type": "markdown",
   "id": "fe17824a",
   "metadata": {},
   "source": [
    "<span style=\"font-family:Comic Sans MS\">Font tipini değiştirebiliriz</span>"
   ]
  },
  {
   "cell_type": "markdown",
   "id": "562b3b07",
   "metadata": {},
   "source": [
    "<div class=\"alert alert-info\">\n",
    "  <strong>Mavi</strong>\n",
    "</div>"
   ]
  },
  {
   "cell_type": "markdown",
   "id": "ad6372fc",
   "metadata": {},
   "source": [
    "<div class=\"alert alert-warning\">\n",
    "  <strong>Sarı</strong>\n",
    "</div>"
   ]
  },
  {
   "cell_type": "markdown",
   "id": "0cf12273",
   "metadata": {},
   "source": [
    "<div class=\"alert alert-success\">\n",
    "  <strong>Yeşil</strong>\n",
    "</div>"
   ]
  },
  {
   "cell_type": "markdown",
   "id": "44ec0e59",
   "metadata": {},
   "source": [
    "<div class=\"alert alert-danger\">\n",
    "  <strong>Kırmızı uyarı kutuları yapabilir</strong>\n",
    "</div>"
   ]
  },
  {
   "cell_type": "markdown",
   "id": "ee1bf348",
   "metadata": {},
   "source": [
    "<code style=\"background:yellow;color:black\">Önemli yerlerin üzerini marker ile çizebilir</code>  \n",
    "Sadece bir <mark>kelimeyi</mark> vurgularız"
   ]
  },
  {
   "cell_type": "markdown",
   "id": "d49fb716",
   "metadata": {},
   "source": [
    "<p style=\"background:black\">\n",
    "<code style=\"background:black;color:white\">Belki de bir terminal görünümü veririz\n",
    "</code>\n",
    "</p>"
   ]
  }
 ],
 "metadata": {
  "kernelspec": {
   "display_name": "Python 3",
   "language": "python",
   "name": "python3"
  },
  "language_info": {
   "codemirror_mode": {
    "name": "ipython",
    "version": 3
   },
   "file_extension": ".py",
   "mimetype": "text/x-python",
   "name": "python",
   "nbconvert_exporter": "python",
   "pygments_lexer": "ipython3",
   "version": "3.8.8"
  }
 },
 "nbformat": 4,
 "nbformat_minor": 5
}
